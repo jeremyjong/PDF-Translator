{
 "cells": [
  {
   "cell_type": "code",
   "execution_count": 1,
   "metadata": {},
   "outputs": [],
   "source": [
    "import fitz\n",
    "import deep_translator\n",
    "\n",
    "# PDFを読み込む\n",
    "filename = \"D:\\デスクトップ\\徹底攻略E資格_ocr2.pdf\"\n",
    "doc = fitz.open(filename)\n",
    "translator = deep_translator.GoogleTranslator(source='ja', target='en')\n",
    "translated_doc = fitz.open()\n",
    "\n",
    "# １ページずつテキストを抽出して出力\n",
    "for page in range(len(doc)):\n",
    "    text = doc[page].get_text()\n",
    "    text = \"\".join(text.split(\" \"))\n",
    "\n",
    "    translated_text = translator.translate(text)\n",
    "    #print(translated_text)\n",
    "    rc = translated_doc.insert_page(page, text=translated_text, fontsize=12)\n",
    "\n",
    "# Save the new PDF with translated texts\n",
    "translated_filename = \"D:\\\\デスクトップ\\\\translated.pdf\"\n",
    "translated_doc.save(translated_filename)\n",
    "translated_doc.close()"
   ]
  },
  {
   "cell_type": "code",
   "execution_count": null,
   "metadata": {},
   "outputs": [],
   "source": []
  }
 ],
 "metadata": {
  "kernelspec": {
   "display_name": "py38",
   "language": "python",
   "name": "python3"
  },
  "language_info": {
   "codemirror_mode": {
    "name": "ipython",
    "version": 3
   },
   "file_extension": ".py",
   "mimetype": "text/x-python",
   "name": "python",
   "nbconvert_exporter": "python",
   "pygments_lexer": "ipython3",
   "version": "3.8.16"
  }
 },
 "nbformat": 4,
 "nbformat_minor": 2
}
